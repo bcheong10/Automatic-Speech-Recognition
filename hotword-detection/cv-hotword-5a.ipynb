{
 "cells": [
  {
   "cell_type": "code",
   "execution_count": 62,
   "metadata": {},
   "outputs": [
    {
     "name": "stdout",
     "output_type": "stream",
     "text": [
      "cv-valid-dev/sample-000000.mp3 BE CAREFUL WHET YOUR PROGNOSTICATIONS SAID THE STRANGER\n",
      "cv-valid-dev/sample-000003.mp3 I FELT THAT EVERYTHING I OWNED WOULD BE DESTROYED\n",
      "cv-valid-dev/sample-000089.mp3 THE STRANGER SEEMED SATISFIED WITH THE ANSWER\n",
      "cv-valid-dev/sample-000508.mp3 I HAD TO TEST YOUR COURAGE THE STRANGER SAID\n",
      "cv-valid-dev/sample-000674.mp3 IHAD TO TEST YOUR COURAGETHE STRANGER SAID\n",
      "cv-valid-dev/sample-001093.mp3 BE CAREFUL WITH YOUR PROGNOSTICATIONS SAID THE STRANGER\n",
      "cv-valid-dev/sample-001101.mp3 THE STRANGER WAS SPEAKING OF THINGS THAT VERY FEW PEOPLE KNEW ABOUT\n",
      "cv-valid-dev/sample-001243.mp3 THE STRANGER WAS SPEAKING OF THINGS THAT VERY FEW PEOPLE KNEW ABOUT\n",
      "cv-valid-dev/sample-001501.mp3 I HAD TO TEST YOUR COURAGE THE STRANGER SAID\n",
      "cv-valid-dev/sample-001933.mp3 THE STRANGER SEEMED SATISFIED WITH THE ANSWER\n",
      "cv-valid-dev/sample-002405.mp3 THE STRANGER WAS SPEAKING OF THE THINGS THAT VERY FEW PEOPLE KNEW ABOUT\n",
      "cv-valid-dev/sample-002453.mp3 I DON'T LIKE PEOPLE TO DO THAT BECAUSE THE SHEEP ARE AFRAID OF STRANGERS\n",
      "cv-valid-dev/sample-003065.mp3 THE STRANGER WITHDREW THE SWORD FROM THE BOY'S FOREHEAD AND THE BOY FELT IMMENSELY RELIEVED\n",
      "cv-valid-dev/sample-003219.mp3 I HAD TO TEST YOUR COURAGE THE STRANGER SAID\n",
      "cv-valid-dev/sample-003808.mp3 I HAD TO TEST YOUR COURAGE THE STRANGER SAID\n"
     ]
    }
   ],
   "source": [
    "import pandas as pd\n",
    "\n",
    "files_with_hotwords = []\n",
    "\n",
    "# Load the CSV file\n",
    "df = pd.read_csv('cv-valid-dev.csv')\n",
    "\n",
    "# Define the hotwords\n",
    "hotwords = [\"BE CAREFUL\", \"STRANGER\", \"DESTROYED\"]\n",
    "\n",
    "for i, row in enumerate(df.iterrows()):\n",
    "    text = row[1]['generated_text_cv']\n",
    "    if isinstance(text, str):\n",
    "        for hotword in hotwords:\n",
    "            if hotword in text:\n",
    "                print(row[1]['filename'], text)\n",
    "                files_with_hotwords.append(row[1]['filename'])\n",
    "                break\n"
   ]
  },
  {
   "cell_type": "code",
   "execution_count": 63,
   "metadata": {},
   "outputs": [
    {
     "data": {
      "text/plain": [
       "['cv-valid-dev/sample-000000.mp3',\n",
       " 'cv-valid-dev/sample-000003.mp3',\n",
       " 'cv-valid-dev/sample-000089.mp3',\n",
       " 'cv-valid-dev/sample-000508.mp3',\n",
       " 'cv-valid-dev/sample-000674.mp3',\n",
       " 'cv-valid-dev/sample-001093.mp3',\n",
       " 'cv-valid-dev/sample-001101.mp3',\n",
       " 'cv-valid-dev/sample-001243.mp3',\n",
       " 'cv-valid-dev/sample-001501.mp3',\n",
       " 'cv-valid-dev/sample-001933.mp3',\n",
       " 'cv-valid-dev/sample-002405.mp3',\n",
       " 'cv-valid-dev/sample-002453.mp3',\n",
       " 'cv-valid-dev/sample-003065.mp3',\n",
       " 'cv-valid-dev/sample-003219.mp3',\n",
       " 'cv-valid-dev/sample-003808.mp3']"
      ]
     },
     "execution_count": 63,
     "metadata": {},
     "output_type": "execute_result"
    }
   ],
   "source": [
    "files_with_hotwords"
   ]
  },
  {
   "cell_type": "code",
   "execution_count": 64,
   "metadata": {},
   "outputs": [],
   "source": [
    "with open('detected.txt', 'w') as f:\n",
    "    for item in files_with_hotwords:\n",
    "        # Write each item to the text file\n",
    "        f.write(item + '\\n')"
   ]
  }
 ],
 "metadata": {
  "kernelspec": {
   "display_name": "htx",
   "language": "python",
   "name": "python3"
  },
  "language_info": {
   "codemirror_mode": {
    "name": "ipython",
    "version": 3
   },
   "file_extension": ".py",
   "mimetype": "text/x-python",
   "name": "python",
   "nbconvert_exporter": "python",
   "pygments_lexer": "ipython3",
   "version": "3.12.2"
  }
 },
 "nbformat": 4,
 "nbformat_minor": 2
}
